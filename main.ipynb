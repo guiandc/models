{
  "metadata": {
    "kernelspec": {
      "name": "python",
      "display_name": "Python (Pyodide)",
      "language": "python"
    },
    "language_info": {
      "codemirror_mode": {
        "name": "python",
        "version": 3
      },
      "file_extension": ".py",
      "mimetype": "text/x-python",
      "name": "python",
      "nbconvert_exporter": "python",
      "pygments_lexer": "ipython3",
      "version": "3.8"
    }
  },
  "nbformat_minor": 5,
  "nbformat": 4,
  "cells": [
    {
      "cell_type": "code",
      "source": "import matplotlib.pyplot as plt\nimport seaborn as sns\nfrom pyspark.ml.regression import LinearRegression\nfrom pyspark.ml.regression import DecisionTreeRegressor\nfrom pyspark.ml.regression import RandomForestRegressor\n\nfrom pyspark.ml.evaluation import RegressionEvaluator\n\n",
      "metadata": {},
      "execution_count": null,
      "outputs": [],
      "id": "a2b68eec-69c3-4029-9f90-62e46e23f80f"
    },
    {
      "cell_type": "markdown",
      "source": "# CARREGAR DADOS",
      "metadata": {},
      "id": "b5976261-5c4a-4b30-a0cd-e3a4b59eaa48"
    },
    {
      "cell_type": "markdown",
      "source": "### VARIÁVEIS DUMMY",
      "metadata": {},
      "id": "83ba8c91-6f04-461a-a127-9acd8a718b93"
    },
    {
      "cell_type": "code",
      "source": "def dummy(df, key, column_name):\n    dummy = df\\\n        .groupBy(key)\\\n        .pivot(column_name)\\\n        .agg(f.lit(1))\\\n        .na\\\n        .fill(0)\n    return dummy",
      "metadata": {
        "trusted": true
      },
      "execution_count": 4,
      "outputs": [],
      "id": "78930167-9461-42bd-b26a-d54d561df0ec"
    },
    {
      "cell_type": "code",
      "source": "#renomeia coluna target para label (esperado pelans funções de machine learning)\ndataset = dataset.withColumnRenamed('target','label')",
      "metadata": {},
      "execution_count": null,
      "outputs": [],
      "id": "6d081dbe-5572-4b90-9e3f-12ebf93c65cb"
    },
    {
      "cell_type": "code",
      "source": "#cria culunas dummy\ndummy_var1 = dummy(df, 'cpf', 'regional')\ndummy_var2 = dummy(df, 'cpf', 'BU')",
      "metadata": {},
      "execution_count": null,
      "outputs": [],
      "id": "61d253f6-c2b6-432a-a2be-07906298ed58"
    },
    {
      "cell_type": "code",
      "source": "#adiciona colunas dummy ao dataframe principal\ndf = df\\\n    .join(dummy_var1, 'cpf', how='inner')\\\n    .join(dummy_var2, 'cpf', how='inner')",
      "metadata": {},
      "execution_count": null,
      "outputs": [],
      "id": "a00e2457-662d-486b-999b-c8523124dc41"
    },
    {
      "cell_type": "code",
      "source": "#ajuste o dataset para que tenha apenas as variáveis explicativas e a variável resposta",
      "metadata": {},
      "execution_count": null,
      "outputs": [],
      "id": "3a8c5886-2658-49a3-b57b-53d2b6e5f0ca"
    },
    {
      "cell_type": "markdown",
      "source": "### CORRELAÇÃO",
      "metadata": {},
      "id": "29524101-abfb-432c-9a30-3789e36ceb46"
    },
    {
      "cell_type": "code",
      "source": "correlacao = Correlation.corr(dataset_prep, 'features').collect()",
      "metadata": {},
      "execution_count": null,
      "outputs": [],
      "id": "1d405437-4f9a-4095-b2d4-e21b4f89fffb"
    },
    {
      "cell_type": "code",
      "source": "pd.DataFrame(correlacao.toArray(), columns=X, index=X)\ndataframe_correlacao",
      "metadata": {},
      "execution_count": null,
      "outputs": [],
      "id": "65b31572-ce54-4308-a5fd-4a63280aa178"
    },
    {
      "cell_type": "code",
      "source": "plt.figure(figsize=(12,10))\npaleta = sns.color_palette(\"light:salmon\", as_cmap=True)\nsns.heatmap(dataframe_correlacao.round(1), annot=True, cmap=paleta)",
      "metadata": {},
      "execution_count": null,
      "outputs": [],
      "id": "6e0444e8-01cd-4f35-b395-a973c061d419"
    },
    {
      "cell_type": "markdown",
      "source": "# LOGISTIC REGRESSION",
      "metadata": {},
      "id": "d0312f27-8f31-45db-b085-f1061f3eb16b"
    },
    {
      "cell_type": "markdown",
      "source": "### AJUSTE E PREVISÃO",
      "metadata": {},
      "id": "22b57d0c-a79e-432b-b5ae-fc7a463c2517"
    },
    {
      "cell_type": "code",
      "source": "treino, teste = dataset_prep.randomSplit([0.7, 0.3], seed=1112)",
      "metadata": {},
      "execution_count": null,
      "outputs": [],
      "id": "1736d1ae-8c83-4736-8985-aaa543e41b5c"
    },
    {
      "cell_type": "code",
      "source": "treino.count()",
      "metadata": {},
      "execution_count": null,
      "outputs": [],
      "id": "01620cde-6796-4157-90d6-a2db4243a5ba"
    },
    {
      "cell_type": "code",
      "source": "teste.count()",
      "metadata": {},
      "execution_count": null,
      "outputs": [],
      "id": "96c9a0bf-52a7-44e2-aa01-ef2d55a3e972"
    },
    {
      "cell_type": "code",
      "source": "lr = LinearRegression()",
      "metadata": {},
      "execution_count": null,
      "outputs": [],
      "id": "b1df2ef7-779b-4fc0-b114-a40b4b476bb2"
    },
    {
      "cell_type": "code",
      "source": "modelo_lr = lr.fit(treino)",
      "metadata": {},
      "execution_count": null,
      "outputs": [],
      "id": "90511c1f-8b13-42aa-b18d-cb4f99a201ab"
    },
    {
      "cell_type": "code",
      "source": "previsoes_lr_treino = modelo_lr.transform(treino)",
      "metadata": {},
      "execution_count": null,
      "outputs": [],
      "id": "56ddec54-06e3-492a-8ee2-ebaf6bbf854a"
    },
    {
      "cell_type": "markdown",
      "source": "### MÉTRICAS",
      "metadata": {},
      "id": "816a280e-076e-4eb1-8fcf-72ea85506943"
    },
    {
      "cell_type": "markdown",
      "source": "#### TREINO",
      "metadata": {},
      "id": "60f35dc5-0637-438d-8662-514db38f9eee"
    },
    {
      "cell_type": "code",
      "source": "#R2\nmetrica_treino = modelo_lr.summary",
      "metadata": {
        "trusted": true
      },
      "execution_count": 6,
      "outputs": [],
      "id": "72ecaf89-be10-466f-89ef-fb64cb1e7796"
    },
    {
      "cell_type": "code",
      "source": "#RMSE\nmetrica_treino.rootMeanSquaredError",
      "metadata": {},
      "execution_count": null,
      "outputs": [],
      "id": "3d32a6bf-00ec-4fa5-ac6c-29a96311af9f"
    },
    {
      "cell_type": "markdown",
      "source": "#### TESTE",
      "metadata": {},
      "id": "8905832f-60a9-430f-abb2-e076ce07d5de"
    },
    {
      "cell_type": "code",
      "source": "metrica_teste = modelo_lr.evaluate(teste)",
      "metadata": {},
      "execution_count": null,
      "outputs": [],
      "id": "ce5ad582-c7db-4f53-9f96-ff983cbf9b31"
    },
    {
      "cell_type": "code",
      "source": "metrica_teste.r2",
      "metadata": {},
      "execution_count": null,
      "outputs": [],
      "id": "89d95fa4-ee88-4a40-a534-0a42fdaddbcc"
    },
    {
      "cell_type": "code",
      "source": "metrica_teste.rootMeanSquaredError",
      "metadata": {},
      "execution_count": null,
      "outputs": [],
      "id": "6930f3aa-17cf-40fd-9556-f8158efc27e5"
    },
    {
      "cell_type": "markdown",
      "source": "#### RESULTADOS",
      "metadata": {},
      "id": "cef013ee-33e6-408f-9983-3a2b81888ca1"
    },
    {
      "cell_type": "code",
      "source": "print('Linear Regression')\nprint(\"=\"*30)\nprint(\"Dados de Treino\")\nprint(\"=\"*30)\nprint(\"R²: %f\" % resumo_treino.r2)\nprint(\"RMSE: %f\" % resumo_treino.rootMeanSquaredError)\nprint(\"\")\nprint(\"=\"*30)\nprint(\"Dados de Teste\")\nprint(\"=\"*30)\nprint(\"R²: %f\" % resumo_teste.r2)\nprint(\"RMSE: %f\" % resumo_teste.rootMeanSquaredError)",
      "metadata": {},
      "execution_count": null,
      "outputs": [],
      "id": "2a94493f-2da4-43d9-83db-f1d9a703852d"
    },
    {
      "cell_type": "markdown",
      "source": "# DECISION TREE",
      "metadata": {},
      "id": "7b70e9c6-1f8a-4067-91aa-8e8bde38bb93"
    },
    {
      "cell_type": "markdown",
      "source": "### AJUSTE E PREVISÃO",
      "metadata": {},
      "id": "bdcd25fc-3dca-4bc9-9e56-5dea5d87765a"
    },
    {
      "cell_type": "code",
      "source": "dtr = DecisionTreeRegressor(seed=1112, maxDepth=7)",
      "metadata": {},
      "execution_count": null,
      "outputs": [],
      "id": "560a782a-dd07-468d-b635-4f09f77c8de6"
    },
    {
      "cell_type": "code",
      "source": "modelo_dtr = dtr.fit(treino)",
      "metadata": {},
      "execution_count": null,
      "outputs": [],
      "id": "b5214ac4-41ca-4097-a383-18b7704d1b08"
    },
    {
      "cell_type": "code",
      "source": "previsoes_dtr_treino = modelo_dtr.transform(treino)",
      "metadata": {},
      "execution_count": null,
      "outputs": [],
      "id": "3b84ef20-02ed-426e-8954-e98b563c72e4"
    },
    {
      "cell_type": "markdown",
      "source": "### MÉTRICAS",
      "metadata": {},
      "id": "dccb2e78-827a-426a-ac94-c1f943238429"
    },
    {
      "cell_type": "markdown",
      "source": "#### TREINO",
      "metadata": {},
      "id": "9860f6cb-884e-4cf3-9235-ec90126e2d78"
    },
    {
      "cell_type": "code",
      "source": "evaluator = RegressionEvaluator()",
      "metadata": {},
      "execution_count": null,
      "outputs": [],
      "id": "56d98d96-dad2-4271-8ec7-a1b1d3b5edd8"
    },
    {
      "cell_type": "code",
      "source": "print(evaluator.evaluate(previsoes_dtr_treino, {evaluator.metricName: \"r2\"}))\nprint(evaluator.evaluate(previsoes_dtr_treino, {evaluator.metricName: \"rmse\"}))",
      "metadata": {},
      "execution_count": null,
      "outputs": [],
      "id": "1897d517-0649-4413-9a56-4d8b9bcae981"
    },
    {
      "cell_type": "markdown",
      "source": "#### TESTE",
      "metadata": {},
      "id": "e2c0ce75-5435-4b7d-9817-e191a0bd2265"
    },
    {
      "cell_type": "code",
      "source": "previsoes_dtr_teste = modelo_dtr.transform(teste)",
      "metadata": {},
      "execution_count": null,
      "outputs": [],
      "id": "a8ebad74-7359-4946-8b9a-d846f7f36b07"
    },
    {
      "cell_type": "code",
      "source": "previsoes_dtr_teste.show()",
      "metadata": {},
      "execution_count": null,
      "outputs": [],
      "id": "5098397a-73f3-4406-b754-8ae59de6c345"
    },
    {
      "cell_type": "markdown",
      "source": "#### RESULTADOS",
      "metadata": {},
      "id": "dbaa52ed-b6dd-4dd9-91d0-2e7c0d75158b"
    },
    {
      "cell_type": "code",
      "source": "print('Decision Tree Regression')\nprint(\"=\"*30)\nprint(\"Dados de Treino\")\nprint(\"=\"*30)\nprint(\"R²: %f\" % evaluator.evaluate(previsoes_dtr_treino, {evaluator.metricName: \"r2\"}))\nprint(\"RMSE: %f\" % evaluator.evaluate(previsoes_dtr_treino, {evaluator.metricName: \"rmse\"}))\nprint(\"\")\nprint(\"=\"*30)\nprint(\"Dados de Teste\")\nprint(\"=\"*30)\nprint(\"R²: %f\" % evaluator.evaluate(previsoes_dtr_teste, {evaluator.metricName: \"r2\"}))\nprint(\"RMSE: %f\" % evaluator.evaluate(previsoes_dtr_teste, {evaluator.metricName: \"rmse\"}))",
      "metadata": {},
      "execution_count": null,
      "outputs": [],
      "id": "0801b686-b9ac-45ee-a26c-7e52e226b59e"
    },
    {
      "cell_type": "markdown",
      "source": "# RANDOM FOREST",
      "metadata": {},
      "id": "e521e675-d0b9-49a0-9d52-eea79de2c294"
    },
    {
      "cell_type": "markdown",
      "source": "### AJUSTE E PREVISÃO",
      "metadata": {},
      "id": "126c2c02-58e3-4dee-a65f-759241e85c78"
    },
    {
      "cell_type": "code",
      "source": "rfr = RandomForestRegressor(seed=1112, maxDepth=7, numTrees=10)",
      "metadata": {},
      "execution_count": null,
      "outputs": [],
      "id": "e2f71137-aae2-4187-bba5-eea18189c0ef"
    },
    {
      "cell_type": "code",
      "source": "modelo_rfr = rfr.fit(treino)",
      "metadata": {},
      "execution_count": null,
      "outputs": [],
      "id": "d49a5236-b2d2-47b9-a669-3b6c674e697c"
    },
    {
      "cell_type": "code",
      "source": "previsoes_rfr_treino = modelo_rfr.transform(treino)",
      "metadata": {},
      "execution_count": null,
      "outputs": [],
      "id": "629c9675-1b5b-4c88-b371-869a057c7c1e"
    },
    {
      "cell_type": "markdown",
      "source": "### MÉTRICAS",
      "metadata": {},
      "id": "eb5e8d70-52de-4d09-b5dd-e40bcbe74dc8"
    },
    {
      "cell_type": "markdown",
      "source": "#### TREINO",
      "metadata": {},
      "id": "3f25fe76-aaab-4208-bf79-16e2f76e0dda"
    },
    {
      "cell_type": "code",
      "source": "evaluator = RegressionEvaluator()",
      "metadata": {},
      "execution_count": null,
      "outputs": [],
      "id": "b0689479-a5ca-4b04-bda8-3a7c283ab1b6"
    },
    {
      "cell_type": "code",
      "source": "print(evaluator.evaluate(previsoes_rfr_treino, {evaluator.metricName: \"r2\"}))\nprint(evaluator.evaluate(previsoes_rfr_treino, {evaluator.metricName: \"rmse\"}))",
      "metadata": {},
      "execution_count": null,
      "outputs": [],
      "id": "ace814f7-960d-414b-91c4-0dcc0d6be28b"
    },
    {
      "cell_type": "markdown",
      "source": "#### TESTE",
      "metadata": {},
      "id": "2036759a-e9f6-4765-9f8b-2d7a86c76a15"
    },
    {
      "cell_type": "code",
      "source": "previsoes_rfr_teste = modelo_rfr.transform(teste)",
      "metadata": {},
      "execution_count": null,
      "outputs": [],
      "id": "7eba2e23-ca8f-4b5c-a4d0-2bec99261ebc"
    },
    {
      "cell_type": "markdown",
      "source": "#### RESULTADOS",
      "metadata": {},
      "id": "d1076cf9-1f42-41bf-b6bd-9ecff1258cdd"
    },
    {
      "cell_type": "code",
      "source": "print('Random Forest Regression')\nprint(\"=\"*30)\nprint(\"Dados de Treino\")\nprint(\"=\"*30)\nprint(\"R²: %f\" % evaluator.evaluate(previsoes_rfr_treino, {evaluator.metricName: \"r2\"}))\nprint(\"RMSE: %f\" % evaluator.evaluate(previsoes_rfr_treino, {evaluator.metricName: \"rmse\"}))\nprint(\"\")\nprint(\"=\"*30)\nprint(\"Dados de Teste\")\nprint(\"=\"*30)\nprint(\"R²: %f\" % evaluator.evaluate(previsoes_rfr_teste, {evaluator.metricName: \"r2\"}))\nprint(\"RMSE: %f\" % evaluator.evaluate(previsoes_rfr_teste, {evaluator.metricName: \"rmse\"}))",
      "metadata": {},
      "execution_count": null,
      "outputs": [],
      "id": "7b675a7e-4aea-4362-a11d-c6bb11a78735"
    },
    {
      "cell_type": "markdown",
      "source": "### ==================================\n#### OTIMIZADO\n### ==================================",
      "metadata": {},
      "id": "69a8aa61-775e-426c-b2d5-70c71421c8d1"
    },
    {
      "cell_type": "markdown",
      "source": "# DECISION TREE",
      "metadata": {},
      "id": "989c93c0-2998-4d59-aa7e-83caca1691ba"
    },
    {
      "cell_type": "code",
      "source": "dtr = DecisionTreeRegressor()",
      "metadata": {},
      "execution_count": null,
      "outputs": [],
      "id": "eb2d4a22-aa30-48fa-861b-44eb39f115e0"
    },
    {
      "cell_type": "code",
      "source": "grid = ParamGridBuilder() \\\n    .addGrid(dtr.maxDepth, [2, 5, 10]) \\\n    .addGrid(dtr.maxBins, [10, 32, 45]) \\\n    .build()",
      "metadata": {},
      "execution_count": null,
      "outputs": [],
      "id": "bdadecd8-3b1e-4256-b587-660dc8ad569b"
    },
    {
      "cell_type": "code",
      "source": "evaluator = RegressionEvaluator()",
      "metadata": {},
      "execution_count": null,
      "outputs": [],
      "id": "e5f070f5-1ee8-4d4e-9e2e-7cc67418e149"
    },
    {
      "cell_type": "code",
      "source": "dtr_cv = CrossValidator(\n    estimator=dtr,\n    estimatorParamMaps=grid,\n    evaluator=evaluator,\n    numFolds=3\n        seed = 101\n)",
      "metadata": {},
      "execution_count": null,
      "outputs": [],
      "id": "a14ac41e-48e2-4f57-a06e-25fa22fd3395"
    },
    {
      "cell_type": "code",
      "source": "modelo_dtr_cv = dtr_cv.fit(treino)",
      "metadata": {},
      "execution_count": null,
      "outputs": [],
      "id": "86be07b6-fc67-4e10-96a5-8e9c34fa0e63"
    },
    {
      "cell_type": "code",
      "source": "previsoes_dtr_cv_teste = modelo_dtr_cv.transform(teste)",
      "metadata": {},
      "execution_count": null,
      "outputs": [],
      "id": "9740de67-072a-4604-b97a-c11537aac90e"
    },
    {
      "cell_type": "code",
      "source": "print('Decision Tree Regression')\nprint(\"=\"*30)\nprint(\"Sem Cross Validation\")\nprint(\"=\"*30)\nprint(\"R²: %f\" % evaluator.evaluate(previsoes_dtr_teste, {evaluator.metricName: \"r2\"}))\nprint(\"RMSE: %f\" % evaluator.evaluate(previsoes_dtr_teste, {evaluator.metricName: \"rmse\"}))\nprint(\"\")\nprint(\"=\"*30)\nprint(\"Com Cross Validation\")\nprint(\"=\"*30)\nprint(\"R²: %f\" % evaluator.evaluate(previsoes_dtr_cv_teste, {evaluator.metricName: \"r2\"}))\nprint(\"RMSE: %f\" % evaluator.evaluate(previsoes_dtr_cv_teste, {evaluator.metricName: \"rmse\"}))",
      "metadata": {},
      "execution_count": null,
      "outputs": [],
      "id": "ea22150d-df45-4dbe-aa05-3379c93f6c52"
    },
    {
      "cell_type": "markdown",
      "source": "# RANDOM FOREST",
      "metadata": {},
      "id": "ed56b387-faac-413e-b05b-70f1dda694b5"
    },
    {
      "cell_type": "code",
      "source": "rfr = RandomForestRegressor()",
      "metadata": {},
      "execution_count": null,
      "outputs": [],
      "id": "ac505a22-1ef9-4d96-afae-9a0b0ec85f02"
    },
    {
      "cell_type": "code",
      "source": "grid = ParamGridBuilder() \\\n    .addGrid(rfr.numTrees, [10, 20, 30]) \\\n    .addGrid(rfr.maxDepth, [5, 10]) \\\n    .addGrid(rfr.maxBins, [10, 32, 45]) \\\n    .build()",
      "metadata": {},
      "execution_count": null,
      "outputs": [],
      "id": "afb5e61c-be39-4a7e-a624-33f41481ed83"
    },
    {
      "cell_type": "code",
      "source": "evaluator = RegressionEvaluator()",
      "metadata": {},
      "execution_count": null,
      "outputs": [],
      "id": "46268110-fff0-448a-8ab4-052709de6932"
    },
    {
      "cell_type": "code",
      "source": "rfr_cv = CrossValidator(\n    estimator=rfr,\n    estimatorParamMaps=grid,\n    evaluator=evaluator,\n    numFolds=3\n)",
      "metadata": {},
      "execution_count": null,
      "outputs": [],
      "id": "e8f4200c-5ec5-4f99-b2cb-fa370f626ae0"
    },
    {
      "cell_type": "code",
      "source": "modelo_rfr_cv = rfr_cv.fit(treino)",
      "metadata": {},
      "execution_count": null,
      "outputs": [],
      "id": "f5abaa9b-bec4-435d-8637-f3dc18bc7a8f"
    },
    {
      "cell_type": "code",
      "source": "previsoes_rfr_cv_teste = modelo_rfr_cv.transform(teste)",
      "metadata": {},
      "execution_count": null,
      "outputs": [],
      "id": "3d45fa32-1627-425c-8974-b4ad03aa284f"
    },
    {
      "cell_type": "code",
      "source": "print('Random Forest Regression')\nprint(\"=\"*30)\nprint(\"Sem Cross Validation\")\nprint(\"=\"*30)\nprint(\"R²: %f\" % evaluator.evaluate(previsoes_rfr_teste, {evaluator.metricName: \"r2\"}))\nprint(\"RMSE: %f\" % evaluator.evaluate(previsoes_rfr_teste, {evaluator.metricName: \"rmse\"}))\nprint(\"\")\nprint(\"=\"*30)\nprint(\"Com Cross Validation\")\nprint(\"=\"*30)\nprint(\"R²: %f\" % evaluator.evaluate(previsoes_rfr_cv_teste, {evaluator.metricName: \"r2\"}))\nprint(\"RMSE: %f\" % evaluator.evaluate(previsoes_rfr_cv_teste, {evaluator.metricName: \"rmse\"}))",
      "metadata": {},
      "execution_count": null,
      "outputs": [],
      "id": "042024ff-ffcc-47a3-86c5-6dab49b16d11"
    }
  ]
}